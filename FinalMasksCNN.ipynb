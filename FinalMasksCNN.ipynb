{
 "cells": [
  {
   "cell_type": "markdown",
   "id": "6d69fc48",
   "metadata": {},
   "source": [
    "# Load saved model"
   ]
  },
  {
   "cell_type": "code",
   "execution_count": 388,
   "id": "08801ce7",
   "metadata": {},
   "outputs": [
    {
     "name": "stdout",
     "output_type": "stream",
     "text": [
      "No model saved\n"
     ]
    }
   ],
   "source": [
    "#Skip this cell if running for the first time\n",
    "#if not, directly go to the last cell to predict on random images by replacing \"output = face_mask_detector_cnn(inputs)\"\n",
    "#with \"output = modelTrained(inputs)\"\n",
    "\n",
    "import os\n",
    "import torch\n",
    "if os.path.exists('/FinalModelFDCNN.pkl'):\n",
    "    modelTrained = torch.load('/FinalModelFDCNN.pkl')\n",
    "else:\n",
    "    print(\"No model saved\")\n",
    "\n"
   ]
  },
  {
   "cell_type": "markdown",
   "id": "3ea3b7c9",
   "metadata": {},
   "source": [
    "# Data Extraction"
   ]
  },
  {
   "cell_type": "code",
   "execution_count": 389,
   "id": "5f357717",
   "metadata": {},
   "outputs": [
    {
     "name": "stderr",
     "output_type": "stream",
     "text": [
      "No-Mask: 100%|██████████████████████████████| 667/667 [00:00<00:00, 1290.26it/s]\n",
      "Cloth: 100%|████████████████████████████████| 510/510 [00:00<00:00, 1376.04it/s]\n",
      "N95: 100%|██████████████████████████████████| 524/524 [00:00<00:00, 1388.77it/s]\n",
      "Surgical: 100%|█████████████████████████████| 508/508 [00:00<00:00, 1351.28it/s]\n",
      "N95-with-valve: 100%|███████████████████████| 540/540 [00:00<00:00, 1323.68it/s]"
     ]
    },
    {
     "name": "stdout",
     "output_type": "stream",
     "text": [
      "Saving Dataframe to: dataset/dataset.pickle\n",
      "dataset/dataset.pickle\n"
     ]
    },
    {
     "name": "stderr",
     "output_type": "stream",
     "text": [
      "\n"
     ]
    }
   ],
   "source": [
    "from tqdm import tqdm\n",
    "from pathlib import Path\n",
    "import pandas as pd\n",
    "\n",
    "#importing dataset\n",
    "datasetPath = Path('dataset')\n",
    "no_mask_path = datasetPath/'No-Mask'\n",
    "cloth_mask_path = datasetPath/'Cloth'\n",
    "N95_mask_path = datasetPath/'N95'\n",
    "surgical_mask_path = datasetPath/'Surgical'\n",
    "N95_with_valve = datasetPath/'N95-with-valve'\n",
    "mask_DF = pd.DataFrame()\n",
    "\n",
    "# iterating over the images of no-mask and assigning to each image a label of 0\n",
    "for imgPath in tqdm(list(no_mask_path.iterdir()), desc='No-Mask'):\n",
    "    mask_DF = mask_DF.append({\n",
    "        'image': str(imgPath),\n",
    "        'mask': 0\n",
    "    }, ignore_index=True)\n",
    "\n",
    "# iterating over the images of Cloth mask and assigning to each image a label of 1\n",
    "for imgPath in tqdm(list(cloth_mask_path.iterdir()), desc='Cloth'):\n",
    "    mask_DF = mask_DF.append({\n",
    "        'image': str(imgPath),\n",
    "        'mask': 1\n",
    "    }, ignore_index=True)\n",
    "\n",
    "# iterating over the images of N95 and assigning to each image a label of 2\n",
    "for imgPath in tqdm(list(N95_mask_path.iterdir()), desc='N95'):\n",
    "    mask_DF = mask_DF.append({\n",
    "        'image': str(imgPath),\n",
    "        'mask': 2\n",
    "    }, ignore_index=True)\n",
    "\n",
    "# iterating over the images of Surgical and assigning to each image a label of 3\n",
    "for imgPath in tqdm(list(surgical_mask_path.iterdir()), desc='Surgical'):\n",
    "    mask_DF = mask_DF.append({\n",
    "        'image': str(imgPath),\n",
    "        'mask': 3\n",
    "    }, ignore_index=True)\n",
    "\n",
    "# iterating over the images of N95 mask with valve and assigning to each image a label of 4\n",
    "for imgPath in tqdm(list(N95_with_valve.iterdir()), desc='N95-with-valve'):\n",
    "    mask_DF = mask_DF.append({\n",
    "        'image': str(imgPath),\n",
    "        'mask': 4\n",
    "    }, ignore_index=True)\n",
    "\n",
    "# store the dataset into a file using pickle[serialise]\n",
    "dataframe_name = 'dataset/dataset.pickle'\n",
    "print(f'Saving Dataframe to: {dataframe_name}')\n",
    "mask_DF.to_pickle(dataframe_name)\n",
    "print(dataframe_name)\n",
    "\n"
   ]
  },
  {
   "cell_type": "markdown",
   "id": "d018246e",
   "metadata": {},
   "source": [
    "### Building Dataset Class"
   ]
  },
  {
   "cell_type": "code",
   "execution_count": 390,
   "id": "d6da12c2",
   "metadata": {},
   "outputs": [],
   "source": [
    "from PIL import Image\n",
    "import numpy as np\n",
    "from torch import long, tensor\n",
    "from torch.utils.data.dataset import Dataset\n",
    "from torchvision.transforms import Compose, Resize, ToTensor, Normalize\n",
    "\n",
    "#Creating a dataset class for querying samples by batches so that it can be interpretable by pytorch\n",
    "#Transforming the given image into 32x32 and converting it to a tensor\n",
    "\n",
    "class MaskDetectionDataset(Dataset):\n",
    "    def __init__(self, dataFrame):\n",
    "        self.dataFrame = dataFrame\n",
    "        self.transformations = Compose([\n",
    "            Resize((32, 32)),\n",
    "            ToTensor(),\n",
    "            Normalize((0.5667, 0.5198, 0.4955),(0.3082, 0.2988, 0.3053))\n",
    "        ])\n",
    "\n",
    "    def __getitem__(self, key):\n",
    "        if isinstance(key, slice):\n",
    "            raise NotImplementedError('Slicing is supported')\n",
    "\n",
    "        row = self.dataFrame.iloc[key]\n",
    "        image = Image.open(row['image']).convert('RGB')\n",
    "        return {\n",
    "          'image': self.transformations(image),\n",
    "          'mask': tensor([row['mask']], dtype=long),\n",
    "          'path': row['image']\n",
    "        }\n",
    "\n",
    "    def __len__(self):\n",
    "        return len(self.dataFrame.index)\n",
    "\n",
    "\n",
    "\n"
   ]
  },
  {
   "cell_type": "markdown",
   "id": "72522972",
   "metadata": {},
   "source": [
    "# Building Face detection model"
   ]
  },
  {
   "cell_type": "markdown",
   "id": "833062ff",
   "metadata": {},
   "source": [
    "### Defining the model and the forward pass"
   ]
  },
  {
   "cell_type": "code",
   "execution_count": 391,
   "id": "adabf6aa",
   "metadata": {},
   "outputs": [
    {
     "name": "stdout",
     "output_type": "stream",
     "text": [
      "----------------------------------------------------------------\n",
      "        Layer (type)               Output Shape         Param #\n",
      "================================================================\n",
      "            Conv2d-1           [-1, 32, 32, 32]             896\n",
      "       BatchNorm2d-2           [-1, 32, 32, 32]              64\n",
      "         LeakyReLU-3           [-1, 32, 32, 32]               0\n",
      "            Conv2d-4           [-1, 32, 32, 32]           9,248\n",
      "       BatchNorm2d-5           [-1, 32, 32, 32]              64\n",
      "         LeakyReLU-6           [-1, 32, 32, 32]               0\n",
      "         MaxPool2d-7           [-1, 32, 16, 16]               0\n",
      "            Conv2d-8           [-1, 64, 16, 16]          18,496\n",
      "       BatchNorm2d-9           [-1, 64, 16, 16]             128\n",
      "        LeakyReLU-10           [-1, 64, 16, 16]               0\n",
      "           Conv2d-11           [-1, 64, 16, 16]          36,928\n",
      "      BatchNorm2d-12           [-1, 64, 16, 16]             128\n",
      "        LeakyReLU-13           [-1, 64, 16, 16]               0\n",
      "        MaxPool2d-14             [-1, 64, 8, 8]               0\n",
      "          Dropout-15                 [-1, 4096]               0\n",
      "           Linear-16                 [-1, 1000]       4,097,000\n",
      "             ReLU-17                 [-1, 1000]               0\n",
      "           Linear-18                  [-1, 512]         512,512\n",
      "             ReLU-19                  [-1, 512]               0\n",
      "          Dropout-20                  [-1, 512]               0\n",
      "           Linear-21                    [-1, 5]           2,565\n",
      "================================================================\n",
      "Total params: 4,678,029\n",
      "Trainable params: 4,678,029\n",
      "Non-trainable params: 0\n",
      "----------------------------------------------------------------\n",
      "Input size (MB): 0.01\n",
      "Forward/backward pass size (MB): 2.40\n",
      "Params size (MB): 17.85\n",
      "Estimated Total Size (MB): 20.26\n",
      "----------------------------------------------------------------\n",
      "None\n"
     ]
    }
   ],
   "source": [
    "import torch\n",
    "import torch.nn.init as init\n",
    "import torch.nn as nn\n",
    "from torch import Tensor\n",
    "from torchsummary import summary\n",
    "from torch.nn import (Conv2d, CrossEntropyLoss, Linear, MaxPool2d, ReLU,Sequential, functional)\n",
    "\n",
    "# defining model architecture along with forward pass\n",
    "# Using ReLU as an activation function - it will output the input directly if it is positive, otherwise, it will output zero\n",
    "# Reason for using ReLU is because it is simple, fast, and empirically it seems to work well.\n",
    "# using MaxPool2d as the pooling layer - calculates the maximum, or largest, value in each patch of each feature map\n",
    "\n",
    "class FaceMaskDetectorCNN(nn.Module):\n",
    "    def __init__(self):\n",
    "        super(FaceMaskDetectorCNN, self).__init__()\n",
    "        self.conv_layer = nn.Sequential(\n",
    "            nn.Conv2d(in_channels=3, out_channels=32, kernel_size=3, padding=1),\n",
    "            nn.BatchNorm2d(32),\n",
    "            nn.LeakyReLU(inplace=True),\n",
    "            nn.Conv2d(in_channels=32, out_channels=32, kernel_size=3, padding=1),\n",
    "            nn.BatchNorm2d(32),\n",
    "            nn.LeakyReLU(inplace=True),\n",
    "            nn.MaxPool2d(kernel_size=2, stride=2),\n",
    "            nn.Conv2d(in_channels=32, out_channels=64, kernel_size=3, padding=1),\n",
    "            nn.BatchNorm2d(64),\n",
    "            nn.LeakyReLU(inplace=True),\n",
    "            nn.Conv2d(in_channels=64, out_channels=64, kernel_size=3, padding=1),\n",
    "            nn.BatchNorm2d(64),\n",
    "            nn.LeakyReLU(inplace=True),\n",
    "            nn.MaxPool2d(kernel_size=2, stride=2),\n",
    "        )\n",
    "        self.fc_layer = nn.Sequential(\n",
    "            nn.Dropout(p=0.1),\n",
    "            nn.Linear(8 * 8 * 64, 1000),\n",
    "            nn.ReLU(inplace=True),\n",
    "            nn.Linear(1000, 512),\n",
    "            nn.ReLU(inplace=True),\n",
    "            nn.Dropout(p=0.1),\n",
    "            nn.Linear(512, 5)\n",
    "        )\n",
    "    def forward(self, x):\n",
    "        x = self.conv_layer(x)\n",
    "        x = x.view(x.size(0), -1)\n",
    "        x = self.fc_layer(x)\n",
    "        return x\n",
    "\n",
    "face_mask_detector_cnn = FaceMaskDetectorCNN()\n",
    "print(summary(face_mask_detector_cnn,input_size = (3,32,32)))\n"
   ]
  },
  {
   "cell_type": "markdown",
   "id": "e056d219",
   "metadata": {},
   "source": [
    "### Confusion matrix"
   ]
  },
  {
   "cell_type": "code",
   "execution_count": 392,
   "id": "3f5115b6",
   "metadata": {},
   "outputs": [],
   "source": [
    "from pathlib import Path\n",
    "from typing import Dict, List, Union\n",
    "import pandas as pd\n",
    "import torch\n",
    "import torch.nn.init as init\n",
    "from sklearn.model_selection import train_test_split\n",
    "from sklearn.model_selection import StratifiedKFold\n",
    "from torch import Tensor\n",
    "from torch.nn import (Conv2d, CrossEntropyLoss, Linear, MaxPool2d, ReLU,Sequential)\n",
    "from torch.optim import Adam\n",
    "from torch.optim.optimizer import Optimizer\n",
    "from torch.utils.data import DataLoader\n",
    "import itertools\n",
    "import matplotlib.pyplot as plt\n",
    "\n",
    "def plot_cm(cm, classes, normalize=False, title='Visualization of the confusion matrix', cmap=plt.cm.Reds):\n",
    "    plt.imshow(cm, interpolation='nearest', cmap=cmap)\n",
    "    plt.title(title)\n",
    "    plt.colorbar()\n",
    "    tick_marks = np.arange(len(classes))\n",
    "    plt.xticks(tick_marks, classes, rotation=45)\n",
    "    plt.yticks(tick_marks, classes)\n",
    "\n",
    "    if normalize:\n",
    "        cm = cm.astype('float') / cm.sum(axis=1)[:, np.newaxis]\n",
    "        print(\"Normalized confusion matrix\")\n",
    "    else:\n",
    "        print('Confusion matrix without normalization')\n",
    "\n",
    "    print(cm)\n",
    "\n",
    "    thresh = cm.max() / 2.\n",
    "    for i, j in itertools.product(range(cm.shape[0]), range(cm.shape[1])):\n",
    "        plt.text(j, i, cm[i, j], horizontalalignment=\"center\", color=\"white\" if cm[i, j] > thresh else \"black\")\n",
    "\n",
    "    plt.tight_layout()\n",
    "    plt.ylabel('Actual True label')\n",
    "    plt.xlabel('Predicted label')\n",
    "\n"
   ]
  },
  {
   "cell_type": "markdown",
   "id": "8ea3e838",
   "metadata": {},
   "source": [
    "### Preparing the data for the model"
   ]
  },
  {
   "cell_type": "code",
   "execution_count": 393,
   "id": "8ee25e62",
   "metadata": {},
   "outputs": [],
   "source": [
    "# splitting the data using k-fold into train_folds and validate_folds\n",
    "def prepare_data(mask_df_path) -> None:\n",
    "        mask_df = pd.read_pickle(mask_df_path)\n",
    "        print(mask_df['mask'].value_counts())\n",
    "        skf = StratifiedKFold(n_splits=10, shuffle=True)\n",
    "        train_folds = []\n",
    "        validate_folds = []\n",
    "        for train_index, validate_index in skf.split(mask_df, mask_df['mask']):\n",
    "            train_folds.append(MaskDetectionDataset(mask_df.iloc[train_index]))\n",
    "            validate_folds.append(MaskDetectionDataset(mask_df.iloc[validate_index]))\n",
    "        return [\n",
    "            train_folds, validate_folds,CrossEntropyLoss()\n",
    "            ]\n"
   ]
  },
  {
   "cell_type": "markdown",
   "id": "947be16c",
   "metadata": {},
   "source": [
    "### Data loaders"
   ]
  },
  {
   "cell_type": "code",
   "execution_count": 394,
   "id": "0acf6c9d",
   "metadata": {},
   "outputs": [
    {
     "name": "stdout",
     "output_type": "stream",
     "text": [
      "0.0    667\n",
      "4.0    540\n",
      "2.0    524\n",
      "1.0    510\n",
      "3.0    508\n",
      "Name: mask, dtype: int64\n"
     ]
    }
   ],
   "source": [
    "# data loader that will be used for training and validation\n",
    "# using num_workers = 0 which means that the main process will do that data loading when needed\n",
    "#[num_workers is basically the number of multi-sub processes to load data, if it is 0 it means that RAM remains stable with the increase of epoch]\n",
    "\n",
    "def train_dataloader(train_df) -> DataLoader:\n",
    "    return DataLoader(train_df, batch_size=32, shuffle=True, num_workers=0)\n",
    "\n",
    "def val_dataloader(validate_df) -> DataLoader:\n",
    "    return DataLoader(validate_df, batch_size=32, num_workers=0)\n",
    "\n",
    "train_dfs, validate_dfs, cross_entropy_loss = prepare_data(\"dataset/dataset.pickle\")\n",
    "\n"
   ]
  },
  {
   "cell_type": "markdown",
   "id": "76ea8930",
   "metadata": {},
   "source": [
    "### Training model"
   ]
  },
  {
   "cell_type": "code",
   "execution_count": 395,
   "id": "bcdc5bae",
   "metadata": {},
   "outputs": [],
   "source": [
    "# fixing the learning rate as 0.001\n",
    "epochs = 10\n",
    "learning_rate = 0.001\n",
    "retrain = False\n",
    "\n",
    "import warnings\n",
    "warnings.filterwarnings('ignore')\n",
    "\n",
    "# Overriding the optimizer and returning the desired optimizer\n",
    "#using Adam for the overriding purpose\n",
    "# we received the batch of sample and pass through the face_mask_detector_cnn via forward pass [defined in the face_mask_detector_cnn] and compute the loss of the batch\n",
    "# printing the loss log according to the requirement.\n",
    "\n",
    "def train_model(train_fold):\n",
    "    acc_list = []\n",
    "    loss_list = []\n",
    "    optimizer = Adam(face_mask_detector_cnn.parameters(), lr=learning_rate)\n",
    "    for epoch in range(epochs):\n",
    "        total=0\n",
    "        correct=0\n",
    "        loss_train = 0.0\n",
    "        for i, data in enumerate(train_dataloader(train_fold), 0):\n",
    "            inputs, labels = data['image'], data['mask']\n",
    "            labels = labels.flatten()\n",
    "            outputs = face_mask_detector_cnn(inputs)\n",
    "            loss = cross_entropy_loss(outputs, labels)\n",
    "            loss_list.append(loss.item())\n",
    "            optimizer.zero_grad()\n",
    "            loss.backward()\n",
    "            optimizer.step()\n",
    "            #training accuracy\n",
    "            total += labels.size(0)\n",
    "            _, predicted = torch.max(outputs.data, 1)\n",
    "            correct += (predicted == labels).sum().item()\n",
    "            loss_train += loss\n",
    "        print('Training Loss after epoch {} : {}, Correction prediction : {} / {} Accuracy: {:.2f}%'.format(epoch, loss_train, correct, total ,(correct / total) * 100))\n"
   ]
  },
  {
   "cell_type": "markdown",
   "id": "8de3b7df",
   "metadata": {},
   "source": [
    "# Model Evaluation"
   ]
  },
  {
   "cell_type": "code",
   "execution_count": 396,
   "id": "04484a50",
   "metadata": {},
   "outputs": [],
   "source": [
    "from numpy import vstack\n",
    "from sklearn.metrics import accuracy_score, precision_recall_fscore_support, confusion_matrix\n",
    "\n",
    "# evaluating our model on validation set\n",
    "def evaluate_model(validate_fold):\n",
    "    predictions, actuals = torch.tensor([]), torch.tensor([])\n",
    "    for i, data in enumerate(val_dataloader(validate_fold)):\n",
    "        inputs, targets = data['image'], data['mask']\n",
    "        targets = targets.flatten()\n",
    "        output = face_mask_detector_cnn(inputs)\n",
    "        output = torch.argmax(output,axis=1)\n",
    "        predictions = torch.cat((predictions, output.flatten()), dim=0)\n",
    "        actuals = torch.cat((actuals, targets), dim=0)\n",
    "\n",
    "    return (confusion_matrix(actuals.numpy(), predictions.numpy()),accuracy_score(actuals, predictions),*precision_recall_fscore_support(actuals.numpy(), predictions.numpy(),average='macro'))\n"
   ]
  },
  {
   "cell_type": "code",
   "execution_count": 397,
   "id": "ea42497b",
   "metadata": {},
   "outputs": [
    {
     "name": "stdout",
     "output_type": "stream",
     "text": [
      "Running Fold : 1\n",
      "Training Loss after epoch 0 : 74.09729766845703, Correction prediction : 1571 / 2474 Accuracy: 63.50%\n",
      "Training Loss after epoch 1 : 42.92781448364258, Correction prediction : 1967 / 2474 Accuracy: 79.51%\n",
      "Training Loss after epoch 2 : 36.0922737121582, Correction prediction : 2048 / 2474 Accuracy: 82.78%\n",
      "Training Loss after epoch 3 : 26.705156326293945, Correction prediction : 2152 / 2474 Accuracy: 86.98%\n",
      "Training Loss after epoch 4 : 23.072036743164062, Correction prediction : 2209 / 2474 Accuracy: 89.29%\n",
      "Training Loss after epoch 5 : 16.676681518554688, Correction prediction : 2280 / 2474 Accuracy: 92.16%\n",
      "Training Loss after epoch 6 : 11.939430236816406, Correction prediction : 2330 / 2474 Accuracy: 94.18%\n",
      "Training Loss after epoch 7 : 8.2379150390625, Correction prediction : 2381 / 2474 Accuracy: 96.24%\n",
      "Training Loss after epoch 8 : 8.302173614501953, Correction prediction : 2387 / 2474 Accuracy: 96.48%\n",
      "Training Loss after epoch 9 : 7.59243106842041, Correction prediction : 2391 / 2474 Accuracy: 96.65%\n",
      "Running Fold : 2\n",
      "Training Loss after epoch 0 : 85.28714752197266, Correction prediction : 1448 / 2474 Accuracy: 58.53%\n",
      "Training Loss after epoch 1 : 44.04737854003906, Correction prediction : 1951 / 2474 Accuracy: 78.86%\n",
      "Training Loss after epoch 2 : 34.860599517822266, Correction prediction : 2074 / 2474 Accuracy: 83.83%\n",
      "Training Loss after epoch 3 : 30.894865036010742, Correction prediction : 2131 / 2474 Accuracy: 86.14%\n",
      "Training Loss after epoch 4 : 24.635690689086914, Correction prediction : 2189 / 2474 Accuracy: 88.48%\n",
      "Training Loss after epoch 5 : 18.366796493530273, Correction prediction : 2256 / 2474 Accuracy: 91.19%\n",
      "Training Loss after epoch 6 : 12.476978302001953, Correction prediction : 2333 / 2474 Accuracy: 94.30%\n",
      "Training Loss after epoch 7 : 11.619327545166016, Correction prediction : 2342 / 2474 Accuracy: 94.66%\n",
      "Training Loss after epoch 8 : 12.058324813842773, Correction prediction : 2340 / 2474 Accuracy: 94.58%\n",
      "Training Loss after epoch 9 : 6.67496395111084, Correction prediction : 2401 / 2474 Accuracy: 97.05%\n",
      "Running Fold : 3\n",
      "Training Loss after epoch 0 : 71.76097869873047, Correction prediction : 1615 / 2474 Accuracy: 65.28%\n",
      "Training Loss after epoch 1 : 46.08126449584961, Correction prediction : 1954 / 2474 Accuracy: 78.98%\n",
      "Training Loss after epoch 2 : 37.4176025390625, Correction prediction : 2040 / 2474 Accuracy: 82.46%\n",
      "Training Loss after epoch 3 : 27.711946487426758, Correction prediction : 2143 / 2474 Accuracy: 86.62%\n",
      "Training Loss after epoch 4 : 21.772871017456055, Correction prediction : 2223 / 2474 Accuracy: 89.85%\n",
      "Training Loss after epoch 5 : 16.755783081054688, Correction prediction : 2268 / 2474 Accuracy: 91.67%\n",
      "Training Loss after epoch 6 : 10.41746711730957, Correction prediction : 2347 / 2474 Accuracy: 94.87%\n",
      "Training Loss after epoch 7 : 9.350492477416992, Correction prediction : 2367 / 2474 Accuracy: 95.68%\n",
      "Training Loss after epoch 8 : 10.03799057006836, Correction prediction : 2384 / 2474 Accuracy: 96.36%\n",
      "Training Loss after epoch 9 : 7.675623893737793, Correction prediction : 2392 / 2474 Accuracy: 96.69%\n",
      "Running Fold : 4\n",
      "Training Loss after epoch 0 : 70.75201416015625, Correction prediction : 1621 / 2474 Accuracy: 65.52%\n",
      "Training Loss after epoch 1 : 44.27752685546875, Correction prediction : 1973 / 2474 Accuracy: 79.75%\n",
      "Training Loss after epoch 2 : 34.9076042175293, Correction prediction : 2074 / 2474 Accuracy: 83.83%\n",
      "Training Loss after epoch 3 : 27.15923309326172, Correction prediction : 2153 / 2474 Accuracy: 87.03%\n",
      "Training Loss after epoch 4 : 19.743019104003906, Correction prediction : 2241 / 2474 Accuracy: 90.58%\n",
      "Training Loss after epoch 5 : 14.761653900146484, Correction prediction : 2303 / 2474 Accuracy: 93.09%\n",
      "Training Loss after epoch 6 : 12.765738487243652, Correction prediction : 2324 / 2474 Accuracy: 93.94%\n",
      "Training Loss after epoch 7 : 10.5781831741333, Correction prediction : 2351 / 2474 Accuracy: 95.03%\n",
      "Training Loss after epoch 8 : 13.84841251373291, Correction prediction : 2315 / 2474 Accuracy: 93.57%\n",
      "Training Loss after epoch 9 : 7.235145568847656, Correction prediction : 2393 / 2474 Accuracy: 96.73%\n",
      "Running Fold : 5\n",
      "Training Loss after epoch 0 : 71.96449279785156, Correction prediction : 1587 / 2474 Accuracy: 64.15%\n",
      "Training Loss after epoch 1 : 43.965641021728516, Correction prediction : 1945 / 2474 Accuracy: 78.62%\n",
      "Training Loss after epoch 2 : 34.805259704589844, Correction prediction : 2054 / 2474 Accuracy: 83.02%\n",
      "Training Loss after epoch 3 : 25.564678192138672, Correction prediction : 2196 / 2474 Accuracy: 88.76%\n",
      "Training Loss after epoch 4 : 19.601760864257812, Correction prediction : 2248 / 2474 Accuracy: 90.86%\n",
      "Training Loss after epoch 5 : 14.772428512573242, Correction prediction : 2300 / 2474 Accuracy: 92.97%\n",
      "Training Loss after epoch 6 : 12.979273796081543, Correction prediction : 2338 / 2474 Accuracy: 94.50%\n",
      "Training Loss after epoch 7 : 12.087808609008789, Correction prediction : 2345 / 2474 Accuracy: 94.79%\n",
      "Training Loss after epoch 8 : 9.20883846282959, Correction prediction : 2381 / 2474 Accuracy: 96.24%\n",
      "Training Loss after epoch 9 : 5.037039279937744, Correction prediction : 2419 / 2474 Accuracy: 97.78%\n",
      "Running Fold : 6\n",
      "Training Loss after epoch 0 : 74.7528076171875, Correction prediction : 1596 / 2474 Accuracy: 64.51%\n",
      "Training Loss after epoch 1 : 44.71098327636719, Correction prediction : 1940 / 2474 Accuracy: 78.42%\n",
      "Training Loss after epoch 2 : 34.48128890991211, Correction prediction : 2046 / 2474 Accuracy: 82.70%\n",
      "Training Loss after epoch 3 : 29.852310180664062, Correction prediction : 2130 / 2474 Accuracy: 86.10%\n",
      "Training Loss after epoch 4 : 21.92531967163086, Correction prediction : 2230 / 2474 Accuracy: 90.14%\n",
      "Training Loss after epoch 5 : 17.77902603149414, Correction prediction : 2263 / 2474 Accuracy: 91.47%\n",
      "Training Loss after epoch 6 : 13.26517391204834, Correction prediction : 2328 / 2474 Accuracy: 94.10%\n",
      "Training Loss after epoch 7 : 8.884604454040527, Correction prediction : 2356 / 2474 Accuracy: 95.23%\n",
      "Training Loss after epoch 8 : 9.565986633300781, Correction prediction : 2360 / 2474 Accuracy: 95.39%\n",
      "Training Loss after epoch 9 : 8.646108627319336, Correction prediction : 2378 / 2474 Accuracy: 96.12%\n",
      "Running Fold : 7\n",
      "Training Loss after epoch 0 : 80.46891021728516, Correction prediction : 1484 / 2474 Accuracy: 59.98%\n",
      "Training Loss after epoch 1 : 46.647430419921875, Correction prediction : 1934 / 2474 Accuracy: 78.17%\n",
      "Training Loss after epoch 2 : 35.92613220214844, Correction prediction : 2044 / 2474 Accuracy: 82.62%\n",
      "Training Loss after epoch 3 : 27.901777267456055, Correction prediction : 2130 / 2474 Accuracy: 86.10%\n",
      "Training Loss after epoch 4 : 22.231565475463867, Correction prediction : 2205 / 2474 Accuracy: 89.13%\n",
      "Training Loss after epoch 5 : 18.726579666137695, Correction prediction : 2249 / 2474 Accuracy: 90.91%\n",
      "Training Loss after epoch 6 : 13.924847602844238, Correction prediction : 2320 / 2474 Accuracy: 93.78%\n",
      "Training Loss after epoch 7 : 11.305750846862793, Correction prediction : 2343 / 2474 Accuracy: 94.70%\n",
      "Training Loss after epoch 8 : 8.119637489318848, Correction prediction : 2385 / 2474 Accuracy: 96.40%\n",
      "Training Loss after epoch 9 : 7.388730049133301, Correction prediction : 2388 / 2474 Accuracy: 96.52%\n",
      "Running Fold : 8\n",
      "Training Loss after epoch 0 : 78.10322570800781, Correction prediction : 1529 / 2474 Accuracy: 61.80%\n",
      "Training Loss after epoch 1 : 47.647708892822266, Correction prediction : 1938 / 2474 Accuracy: 78.33%\n",
      "Training Loss after epoch 2 : 36.22978973388672, Correction prediction : 2056 / 2474 Accuracy: 83.10%\n",
      "Training Loss after epoch 3 : 26.7017879486084, Correction prediction : 2174 / 2474 Accuracy: 87.87%\n",
      "Training Loss after epoch 4 : 19.86739158630371, Correction prediction : 2246 / 2474 Accuracy: 90.78%\n",
      "Training Loss after epoch 5 : 17.98333740234375, Correction prediction : 2274 / 2474 Accuracy: 91.92%\n",
      "Training Loss after epoch 6 : 13.628500938415527, Correction prediction : 2316 / 2474 Accuracy: 93.61%\n",
      "Training Loss after epoch 7 : 11.179625511169434, Correction prediction : 2342 / 2474 Accuracy: 94.66%\n",
      "Training Loss after epoch 8 : 6.187676906585693, Correction prediction : 2398 / 2474 Accuracy: 96.93%\n"
     ]
    },
    {
     "name": "stdout",
     "output_type": "stream",
     "text": [
      "Training Loss after epoch 9 : 5.681445121765137, Correction prediction : 2420 / 2474 Accuracy: 97.82%\n",
      "Running Fold : 9\n",
      "Training Loss after epoch 0 : 78.77871704101562, Correction prediction : 1525 / 2474 Accuracy: 61.64%\n",
      "Training Loss after epoch 1 : 45.943931579589844, Correction prediction : 1930 / 2474 Accuracy: 78.01%\n",
      "Training Loss after epoch 2 : 35.85686492919922, Correction prediction : 2058 / 2474 Accuracy: 83.19%\n",
      "Training Loss after epoch 3 : 28.99622344970703, Correction prediction : 2138 / 2474 Accuracy: 86.42%\n",
      "Training Loss after epoch 4 : 20.82742691040039, Correction prediction : 2235 / 2474 Accuracy: 90.34%\n",
      "Training Loss after epoch 5 : 18.630565643310547, Correction prediction : 2253 / 2474 Accuracy: 91.07%\n",
      "Training Loss after epoch 6 : 15.009398460388184, Correction prediction : 2299 / 2474 Accuracy: 92.93%\n",
      "Training Loss after epoch 7 : 10.49638557434082, Correction prediction : 2361 / 2474 Accuracy: 95.43%\n",
      "Training Loss after epoch 8 : 9.49242877960205, Correction prediction : 2375 / 2474 Accuracy: 96.00%\n",
      "Training Loss after epoch 9 : 10.416106224060059, Correction prediction : 2356 / 2474 Accuracy: 95.23%\n",
      "Running Fold : 10\n",
      "Training Loss after epoch 0 : 82.38784790039062, Correction prediction : 1485 / 2475 Accuracy: 60.00%\n",
      "Training Loss after epoch 1 : 45.38112258911133, Correction prediction : 1953 / 2475 Accuracy: 78.91%\n",
      "Training Loss after epoch 2 : 34.60106658935547, Correction prediction : 2079 / 2475 Accuracy: 84.00%\n",
      "Training Loss after epoch 3 : 28.277427673339844, Correction prediction : 2157 / 2475 Accuracy: 87.15%\n",
      "Training Loss after epoch 4 : 20.52937126159668, Correction prediction : 2244 / 2475 Accuracy: 90.67%\n",
      "Training Loss after epoch 5 : 17.888578414916992, Correction prediction : 2268 / 2475 Accuracy: 91.64%\n",
      "Training Loss after epoch 6 : 12.423325538635254, Correction prediction : 2332 / 2475 Accuracy: 94.22%\n",
      "Training Loss after epoch 7 : 11.702391624450684, Correction prediction : 2331 / 2475 Accuracy: 94.18%\n",
      "Training Loss after epoch 8 : 11.690210342407227, Correction prediction : 2343 / 2475 Accuracy: 94.67%\n",
      "Training Loss after epoch 9 : 5.225742816925049, Correction prediction : 2412 / 2475 Accuracy: 97.45%\n",
      "\n",
      "Metrics\n",
      "accuracy     0.796638\n",
      "precision    0.806750\n",
      "recall       0.795009\n",
      "f-score      0.790021\n",
      "dtype: float64\n",
      "\n",
      "Across 10-folds\n",
      "Confusion matrix without normalization\n",
      "[[527.  30.  36.  22.  52.]\n",
      " [ 20. 428.   9.  33.  20.]\n",
      " [ 15.  15. 444.   6.  44.]\n",
      " [ 16. 146.  25. 291.  30.]\n",
      " [ 14.  12.   6.   8. 500.]]\n"
     ]
    },
    {
     "data": {
      "image/png": "[encoded data removed]",
      "text/plain": [
       "<Figure size 432x288 with 2 Axes>"
      ]
     },
     "metadata": {
      "needs_background": "light"
     },
     "output_type": "display_data"
    }
   ],
   "source": [
    "# Running 10 folds with 10 epochs each\n",
    "# computing the confusion matrix, accuracy score, precision recall and fscore\n",
    "\n",
    "fold_results = []\n",
    "fold_confusion_matrix = np.zeros((5,5))\n",
    "classes = ['without_mask', 'cloth_mask', 'N95_mask', 'surgical_mask','N95_mask_with_valve']\n",
    "\n",
    "for fold_index in range(len(train_dfs)):\n",
    "    print(\"Running Fold : \"+ str(fold_index+1))\n",
    "    train_model(train_dfs[fold_index])\n",
    "    fold_result = evaluate_model(validate_dfs[fold_index])\n",
    "    #conf_mat, acc, pre, recall, f-score\n",
    "    fold_results.append(fold_result[1:-1])\n",
    "    fold_confusion_matrix = np.add(fold_confusion_matrix,fold_result[0])\n",
    "    if fold_index != len(train_dfs)-1:\n",
    "        face_mask_detector_cnn = FaceMaskDetectorCNN()\n",
    "\n",
    "metrics_df = pd.DataFrame(fold_results, columns=['accuracy', 'precision', 'recall', 'f-score'])\n",
    "print()\n",
    "print(\"Metrics\")\n",
    "print(metrics_df.mean())\n",
    "print()\n",
    "print(\"Across 10-folds\")\n",
    "plot_cm(fold_confusion_matrix, classes)\n"
   ]
  },
  {
   "cell_type": "markdown",
   "id": "657203b8",
   "metadata": {},
   "source": [
    "### Testing our model on random dataset"
   ]
  },
  {
   "cell_type": "code",
   "execution_count": 404,
   "id": "645a5b66",
   "metadata": {},
   "outputs": [
    {
     "name": "stderr",
     "output_type": "stream",
     "text": [
      "No-Mask: 100%|███████████████████████████████████| 2/2 [00:00<00:00, 371.05it/s]\n",
      "Cloth: 100%|█████████████████████████████████████| 2/2 [00:00<00:00, 503.28it/s]\n",
      "N95: 100%|███████████████████████████████████████| 2/2 [00:00<00:00, 563.83it/s]\n",
      "Surgical: 100%|██████████████████████████████████| 2/2 [00:00<00:00, 500.24it/s]\n",
      "N95-with-valve: 100%|████████████████████████████| 2/2 [00:00<00:00, 674.54it/s]\n"
     ]
    },
    {
     "name": "stdout",
     "output_type": "stream",
     "text": [
      "testDataset/random/File 25.jpg\n",
      "Predicted: N95-with-valve\n"
     ]
    },
    {
     "data": {
      "image/png": "[encoded data removed]",
      "text/plain": [
       "<Figure size 432x288 with 1 Axes>"
      ]
     },
     "metadata": {
      "needs_background": "light"
     },
     "output_type": "display_data"
    }
   ],
   "source": [
    "from tqdm import tqdm\n",
    "import matplotlib.pyplot as plt\n",
    "import random\n",
    "\n",
    "class_mapping = {\n",
    "    0: \"without_mask\",\n",
    "    1: \"cloth_mask\",\n",
    "    2: \"N95 Mask\",\n",
    "    3: \"surgical_mask\",\n",
    "    4: \"N95-with-valve\"\n",
    "}\n",
    "\n",
    "def prepare_predict_df():\n",
    "    testDatasetPath = Path('testDataset')\n",
    "    testRandomMaskPath = testDatasetPath/'random'\n",
    "    testDF = pd.DataFrame()\n",
    "\n",
    "    for imgPath in tqdm(list(testRandomMaskPath.iterdir()), desc='No-Mask'):\n",
    "        testDF = testDF.append({\n",
    "            'image': str(imgPath),\n",
    "            'mask': 0\n",
    "        }, ignore_index=True)\n",
    "\n",
    "    for imgPath in tqdm(list(testRandomMaskPath.iterdir()), desc='Cloth'):\n",
    "        testDF = testDF.append({\n",
    "            'image': str(imgPath),\n",
    "            'mask': 1\n",
    "        }, ignore_index=True)\n",
    "\n",
    "    for imgPath in tqdm(list(testRandomMaskPath.iterdir()), desc='N95'):\n",
    "        testDF = testDF.append({\n",
    "            'image': str(imgPath),\n",
    "            'mask': 2\n",
    "        }, ignore_index=True)\n",
    "\n",
    "    for imgPath in tqdm(list(testRandomMaskPath.iterdir()), desc='Surgical'):\n",
    "        testDF = testDF.append({\n",
    "            'image': str(imgPath),\n",
    "            'mask': 3\n",
    "        }, ignore_index=True)\n",
    "    for imgPath in tqdm(list(testRandomMaskPath.iterdir()), desc='N95-with-valve'):\n",
    "        testDF = testDF.append({\n",
    "            'image': str(imgPath),\n",
    "            'mask': 4\n",
    "    }, ignore_index=True)\n",
    "\n",
    "    return MaskDetectionDataset(testDF)\n",
    "\n",
    "def predict():\n",
    "    test_df = prepare_predict_df()\n",
    "    rand_sampler = torch.utils.data.RandomSampler(test_df, num_samples=32, replacement=True)\n",
    "    data = iter(DataLoader(test_df, batch_size=32, num_workers=0, sampler=rand_sampler)).next()\n",
    "    inputs,targets = data['image'], data['mask']\n",
    "    output = face_mask_detector_cnn(inputs)\n",
    "    output = torch.argmax(output,axis=1)\n",
    "    rand_ind = random.choice(list(range(0,32)))\n",
    "    print(data['path'][rand_ind])\n",
    "    img = Image.open(data['path'][rand_ind])\n",
    "    plt.imshow(np.asarray(img))\n",
    "    print(\"Predicted:\",class_mapping[output[rand_ind].tolist()])\n",
    "\n",
    "predict()"
   ]
  },
  {
   "cell_type": "markdown",
   "id": "d328dda8",
   "metadata": {},
   "source": [
    "### Saving the model"
   ]
  },
  {
   "cell_type": "code",
   "execution_count": 401,
   "id": "d8dba63f",
   "metadata": {},
   "outputs": [],
   "source": [
    "torch.save(face_mask_detector_cnn, 'FinalModelFDCNN.pkl')\n"
   ]
  },
  {
   "cell_type": "code",
   "execution_count": null,
   "id": "19a4257a",
   "metadata": {},
   "outputs": [],
   "source": []
  }
 ],
 "metadata": {
  "kernelspec": {
   "display_name": "Python 3 (ipykernel)",
   "language": "python",
   "name": "python3"
  },
  "language_info": {
   "codemirror_mode": {
    "name": "ipython",
    "version": 3
   },
   "file_extension": ".py",
   "mimetype": "text/x-python",
   "name": "python",
   "nbconvert_exporter": "python",
   "pygments_lexer": "ipython3",
   "version": "3.9.7"
  }
 },
 "nbformat": 4,
 "nbformat_minor": 5
}
